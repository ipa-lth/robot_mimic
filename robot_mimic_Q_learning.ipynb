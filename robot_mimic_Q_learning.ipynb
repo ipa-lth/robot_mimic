{
 "cells": [
  {
   "cell_type": "code",
   "execution_count": null,
   "metadata": {},
   "outputs": [],
   "source": [
    "!python3 -m pip install --upgrade Pillow"
   ]
  },
  {
   "cell_type": "code",
   "execution_count": null,
   "metadata": {},
   "outputs": [],
   "source": [
    "from gym_robotmimic.EnvRobot import EnvRobot"
   ]
  },
  {
   "cell_type": "code",
   "execution_count": null,
   "metadata": {},
   "outputs": [],
   "source": [
    "import math\n",
    "import numpy as np\n",
    "import time\n",
    "from IPython import display\n",
    "import random\n",
    "import itertools\n",
    "\n",
    "import matplotlib.pyplot as plt\n",
    "%matplotlib inline"
   ]
  },
  {
   "cell_type": "code",
   "execution_count": 3,
   "metadata": {},
   "outputs": [
    {
     "data": {
      "image/png": "[encoded data removed]",
      "text/plain": [
       "<matplotlib.figure.Figure at 0x7ff590aa4250>"
      ]
     },
     "metadata": {
      "needs_background": "light"
     },
     "output_type": "display_data"
    }
   ],
   "source": [
    "pos = (0, 50)\n",
    "env = EnvRobot(pos, \n",
    "               [(20, 10), (40, 5)], # arm length and width\n",
    "               [0, 95*math.pi/180]) # initial angles\n",
    "\n",
    "env.setObservationSpace(70, 100)\n",
    "\n",
    "env.setGoalRobot(pos, \n",
    "                 [(10, 10), (25, 7), (25, 7)], # (arm length and width)\n",
    "                 #[0,0,0]) # initial angles\n",
    "                 [0, -45*math.pi/180, -90*math.pi/180]) # initial angles\n",
    "\n",
    "#env.turn([0, 90*math.pi/180])\n",
    "img = env.plot(goal=True)"
   ]
  },
  {
   "cell_type": "code",
   "execution_count": 4,
   "metadata": {},
   "outputs": [],
   "source": [
    "# discretized actions -> functions\n",
    "def action_plus(env):\n",
    "    if env.links[1]['angle'] < 90*math.pi/180:\n",
    "        env.turn([0, 5*math.pi/180])\n",
    "    \n",
    "def action_minus(env):\n",
    "    if env.links[1]['angle'] > -90*math.pi/180:\n",
    "        env.turn([0, -5*math.pi/180])\n",
    "        \n",
    "def action_stay(env):\n",
    "    return"
   ]
  },
  {
   "cell_type": "code",
   "execution_count": 5,
   "metadata": {},
   "outputs": [
    {
     "data": {
      "image/png": "[encoded data removed]",
      "text/plain": [
       "<matplotlib.figure.Figure at 0x7ff590ac7250>"
      ]
     },
     "metadata": {
      "needs_background": "light"
     },
     "output_type": "display_data"
    }
   ],
   "source": [
    "env.reset()\n",
    "reward = []\n",
    "\n",
    "r = np.arange(-95, 96, 5)\n",
    "for i in r:\n",
    "    action_minus(env)\n",
    "    reward.append(env.getReward())\n",
    "    img = env.plot(goal=True)\n",
    "\n",
    "    time.sleep(0.1)\n",
    "    display.clear_output(wait=True)\n",
    "    display.display(img)\n",
    "display.clear_output(wait=True)"
   ]
  },
  {
   "cell_type": "raw",
   "metadata": {},
   "source": [
    "# Save as gif\n",
    "env.reset()\n",
    "im = []\n",
    "reward = []\n",
    "\n",
    "r = np.arange(-95, 96, 5)\n",
    "for i in r:\n",
    "    action_minus(env)\n",
    "    reward.append(env.getReward())\n",
    "    img = env.plot(goal=True)\n",
    "    im.append(img)\n",
    "    \n",
    "im[0].save('out.gif', save_all=True, append_images=im[1:], optimize=False, duration=0.2*len(im), loop=0)"
   ]
  },
  {
   "cell_type": "code",
   "execution_count": 6,
   "metadata": {},
   "outputs": [
    {
     "data": {
      "text/plain": [
       "[<matplotlib.lines.Line2D at 0x7ff59082bc10>]"
      ]
     },
     "execution_count": 6,
     "metadata": {},
     "output_type": "execute_result"
    },
    {
     "data": {
      "image/png": "[encoded data removed]",
      "text/plain": [
       "<matplotlib.figure.Figure at 0x7ff5909c2cd0>"
      ]
     },
     "metadata": {
      "needs_background": "light"
     },
     "output_type": "display_data"
    }
   ],
   "source": [
    "plt.plot(reward)\n",
    "#plt.savefig('rewards.png')"
   ]
  },
  {
   "cell_type": "raw",
   "metadata": {},
   "source": [
    "env.reset()\n",
    "env.getRewardScaling(-90, 90, 5)"
   ]
  },
  {
   "cell_type": "raw",
   "metadata": {},
   "source": [
    "env.reset()\n",
    "reward = []\n",
    "\n",
    "r = np.arange(-90, 96, 5)\n",
    "for i in r:\n",
    "    action_minus(env)\n",
    "    reward.append(env.getReward())\n",
    "    img = env.plot(goal=True)\n",
    "    \n",
    "    time.sleep(0.1)\n",
    "    display.clear_output(wait=True)\n",
    "    display.display(img)\n",
    "display.clear_output(wait=True)"
   ]
  },
  {
   "cell_type": "raw",
   "metadata": {},
   "source": [
    "plt.plot(reward)"
   ]
  },
  {
   "cell_type": "code",
   "execution_count": null,
   "metadata": {},
   "outputs": [],
   "source": [
    "############## Initializing #################\n",
    "\n",
    "# Q-Learning (naive)\n",
    "\n",
    "# init Q(s,a)\n",
    "# axis space -90° - +90°; 5° steps -> 36 steps\n",
    "# s Observation space = goal_axis * quantified(goal state) + axis * quantified(axis state) = (2 + 1) * 36 = 108\n",
    "# a action space = axis * direction = 1 * 2 = 2\n",
    "\n",
    "#Q = np.zeros((38, 38, 38, 3)) # | goal axis 1 | goal axis 2 | current axis | actions |\n",
    "Q = np.zeros((38, 38, 3)) # | goal axis 1 | current axis | actions |\n",
    "\n",
    "Q_mean = [np.mean(Q)]\n",
    "Rewards_max = [0]\n",
    "Rewards_mean = [0]\n",
    "\n",
    "\n",
    "alpha = 0.1 # alpha\n",
    "gamma = 0.95 # gamma\n",
    "\n",
    "show_live = False\n",
    "env.reset()"
   ]
  },
  {
   "cell_type": "code",
   "execution_count": null,
   "metadata": {},
   "outputs": [],
   "source": [
    "file_string = \"Q-{}_{}_{}\".format(Q.size, alpha, gamma)"
   ]
  },
  {
   "cell_type": "code",
   "execution_count": null,
   "metadata": {},
   "outputs": [],
   "source": [
    "############### Loading .npz file #############\n",
    "\n",
    "#np.savez(file_string, Q=Q, Rewards_max=Rewards_max, Rewards_mean=Rewards_mean, Q_mean=Q_mean)\n",
    "file_dict = np.load(file_string+'.npz')\n",
    "print(file_dict.files)\n",
    "\n",
    "Q = file_dict['Q']\n",
    "Rewards_mean = file_dict['Rewards_mean']\n",
    "Rewards_max = file_dict['Rewards_max']\n",
    "Q_mean = file_dict['Q_mean']\n",
    "\n",
    "print(np.max(Q))\n",
    "print(np.min(Q))\n",
    "print(np.mean(Q))"
   ]
  },
  {
   "cell_type": "code",
   "execution_count": null,
   "metadata": {},
   "outputs": [],
   "source": [
    "epsilon = 0.7"
   ]
  },
  {
   "cell_type": "code",
   "execution_count": null,
   "metadata": {},
   "outputs": [],
   "source": [
    "plt.rcParams['figure.figsize'] = [14, 6]\n",
    "show_live = False"
   ]
  },
  {
   "cell_type": "code",
   "execution_count": null,
   "metadata": {},
   "outputs": [],
   "source": [
    "env.reset()\n",
    "env.plot(goal=True)"
   ]
  },
  {
   "cell_type": "code",
   "execution_count": null,
   "metadata": {
    "scrolled": false
   },
   "outputs": [],
   "source": [
    "#%%time # JUPYTER MAGIC to measure runtime\n",
    "############### Vanilla Q-Learning ###############\n",
    "# Swipes the goal axis up and down, step by step #\n",
    "# providing high reward in nearby positions      #\n",
    "#                                                #\n",
    "#  IDEA TO USE PROXIMITY FOR FASTER LEARNING     #\n",
    "##################################################\n",
    "\n",
    "env.reset()\n",
    "\n",
    "# Repeat until convergence\n",
    "for i, rand1 in enumerate(itertools.cycle(range(70, -70, -5) + range(-70, 70, 5))):\n",
    "    if i > 60*60*2: break # about 2h on my machine\n",
    "    rewards = []\n",
    "    robot_goal_state = [0, rand1*math.pi/180]\n",
    "    \n",
    "    env.setGoalRobot(pos, \n",
    "                 #[(10, 10), (25, 7), (25, 7)], # arm length and width\n",
    "                 [(10, 10), (50, 7)], # arm length and width\n",
    "                 robot_goal_state) # initial angles\n",
    "        \n",
    "    #Repeat until termination\n",
    "    for j in range(1, 500):\n",
    "        # Get state entry\n",
    "        i0 = int((robot_goal_state[1] + 90*math.pi/180) / (5*math.pi/180)) # goal robot state 1 \n",
    "        #i1 = int((robot_goal_state[2] + 90*math.pi/180) / (5*math.pi/180)) # goal robot state 2\n",
    "        i2 = int((env.links[1]['angle'] + 90*math.pi/180) / (5*math.pi/180)) # robot state 1 \n",
    "        \n",
    "        #Q_state = Q[i0, i1, i2]\n",
    "        Q_state = Q[i0, i2]\n",
    "        #print(\"{}, {}, {} : {}\".format(i0, i1, i2, Q_state)\n",
    "        \n",
    "        if random.random() > epsilon:\n",
    "            # Exploit\n",
    "            if not all(x == Q_state[0] for x in Q_state):\n",
    "                #print(\"exploit\")\n",
    "                a = np.unravel_index(Q_state.argmax(), Q_state.shape)[0] # get the index of the max; hacky unfold tuple\n",
    "                last_explore_a = None\n",
    "            else:\n",
    "                #print(\"exploit: don't care\")\n",
    "                a = random.choice([0, 1, 2])\n",
    "        else:\n",
    "            # Explore\n",
    "            #print(\"explore\")\n",
    "            a = random.choice([0, 1, 2])\n",
    "\n",
    "        \n",
    "        # Take Action\n",
    "        if a == 0:\n",
    "            #print(\"Action plus\")\n",
    "            action_plus(env)\n",
    "            if i2 < Q.shape[1]:\n",
    "                i2_next = i2 + 1\n",
    "            else:\n",
    "                i2_next = i2\n",
    "        elif a == 1:\n",
    "            #print(\"Action minus\")\n",
    "            action_minus(env)\n",
    "            if i2 > 0:\n",
    "                i2_next = i2 - 1\n",
    "            else:\n",
    "                i2_next = i2\n",
    "        else:\n",
    "            #print(\"Action stay\")\n",
    "            action_stay(env)\n",
    "            i2_next = i2\n",
    "            \n",
    "        if show_live:\n",
    "            img = env.plot(goal=True)\n",
    "            display.clear_output(wait=True)\n",
    "            display.display(img)\n",
    "            #time.sleep(0.1)\n",
    "        \n",
    "        # Update Q\n",
    "        r = env.getReward()\n",
    "        #Q[i0, i1, i2, a] = (1 - alpha) * Q[i0, i1, i2, a] + alpha * (r + gamma * np.argmax(Q[i0, i1, i2_next]))\n",
    "        Q[i0, i2, a] = (1 - alpha) * Q[i0, i2, a] + alpha * (r + gamma * np.argmax(Q[i0, i2_next]))\n",
    "        \n",
    "        rewards.append(r)\n",
    "    \n",
    "    Q_mean = np.append(Q_mean, np.mean(Q))\n",
    "    Rewards_mean = np.append(Rewards_mean, np.mean(rewards))\n",
    "    Rewards_max = np.append(Rewards_max, np.max(rewards))\n",
    "    \n",
    "    # save every episode\n",
    "    np.savez(file_string, Q=Q, Rewards_max=Rewards_max, Rewards_mean=Rewards_mean, Q_mean=Q_mean)\n",
    "    \n",
    "    if not show_live:\n",
    "        display.clear_output(wait=True)\n",
    "        print(\"Loop: {} with {} steps\".format(i, j))\n",
    "        print(\"Goal state: {}\".format(rand1))\n",
    "        print(\"Max Rewards : {}\".format(Rewards_max[-1]))\n",
    "        print(\"Mean Rewards: {}\".format(Rewards_mean[-1]))\n",
    "        print(\"Mean Q: {}\".format(Q_mean[-1]))\n",
    "\n",
    "        plt.plot(Rewards_max)\n",
    "        plt.plot(Rewards_mean)\n",
    "        plt.plot(Q_mean)\n",
    "        plt.legend([\"max reward\", \"mean reward\", \"mean Q\"])\n",
    "        plt.show()"
   ]
  },
  {
   "cell_type": "code",
   "execution_count": null,
   "metadata": {
    "scrolled": false
   },
   "outputs": [],
   "source": [
    "#%%time # JUPYTER MAGIC to measure runtime\n",
    "############### Vanilla Q-Learning ###############\n",
    "# Random goal axis                               #\n",
    "# Random starting position                       #\n",
    "#                                                #\n",
    "##################################################\n",
    "\n",
    "\n",
    "# Repeat until ...\n",
    "for i in range(1, 60*60*2):\n",
    "    #env.reset()\n",
    "    rewards = []\n",
    "    rand1 = random.randrange(-70, 75, 5)\n",
    "    #rand2 = random.randrange(-90, 95, 5)\n",
    "    #robot_goal_state = [0, rand1*math.pi/180, rand2*math.pi/180]\n",
    "    robot_goal_state = [0, rand1*math.pi/180]\n",
    "    \n",
    "    env.setGoalRobot(pos, \n",
    "                 #[(10, 10), (25, 7), (25, 7)], # arm length and width\n",
    "                 [(10, 10), (50, 7)], # arm length and width\n",
    "                 robot_goal_state) # initial angles\n",
    "        \n",
    "    for j in range(1, 500):\n",
    "        # Get state entry\n",
    "        i0 = int((robot_goal_state[1] + 90*math.pi/180) / (5*math.pi/180)) # goal robot state 1 \n",
    "        #i1 = int((robot_goal_state[2] + 90*math.pi/180) / (5*math.pi/180)) # goal robot state 2\n",
    "        i2 = int((env.links[1]['angle'] + 90*math.pi/180) / (5*math.pi/180)) # robot state 1 \n",
    "        \n",
    "        #Q_state = Q[i0, i1, i2]\n",
    "        Q_state = Q[i0, i2]\n",
    "        \n",
    "        if random.random() > epsilon:\n",
    "            # Exploit\n",
    "            if not all(x == Q_state[0] for x in Q_state):\n",
    "                #print(\"exploit\")\n",
    "                a = np.unravel_index(Q_state.argmax(), Q_state.shape)[0] # get the index of the max; hacky unfold tuple\n",
    "            else:\n",
    "                #print()\"exploit: don't care\")\n",
    "                a = random.choice([0,1,2])\n",
    "        else:\n",
    "            # Explore\n",
    "            #print(\"explore\")\n",
    "            a = random.choice([0,1,2])\n",
    "\n",
    "        # Take Action\n",
    "        if a == 0:\n",
    "            #print(\"Action plus\")\n",
    "            action_plus(env)\n",
    "            if i2 < Q.shape[1]:\n",
    "                i2_next = i2 + 1\n",
    "            else:\n",
    "                i2_next = i2\n",
    "        elif a == 1:\n",
    "            #print(\"Action minus\")\n",
    "            action_minus(env)\n",
    "            if i2 > 0:\n",
    "                i2_next = i2 - 1\n",
    "            else:\n",
    "                i2_next = i2\n",
    "        else:\n",
    "            #print(\"Action stay\")\n",
    "            action_stay(env)\n",
    "            i2_next = i2\n",
    "            \n",
    "        if show_live:\n",
    "            img = env.plot(goal=True)\n",
    "            display.clear_output(wait=True)\n",
    "            display.display(img)\n",
    "            #time.sleep(0.1)\n",
    "        \n",
    "        # Update Q\n",
    "        r = env.getReward()\n",
    "        #Q[i0, i1, i2, a] = (1 - alpha) * Q[i0, i1, i2, a] + alpha * (r + gamma * np.argmax(Q[i0, i1, i2_next]))\n",
    "        Q[i0, i2, a] = (1 - alpha) * Q[i0, i2, a] + alpha * (r + gamma * np.argmax(Q[i0, i2_next]))\n",
    "\n",
    "        rewards.append(r)\n",
    "\n",
    "    Q_mean = np.append(Q_mean, np.mean(Q))\n",
    "    Rewards_mean = np.append(Rewards_mean, np.mean(rewards))\n",
    "    Rewards_max = np.append(Rewards_max, np.max(rewards))\n",
    "    \n",
    "    #save every episode\n",
    "    np.savez(file_string, Q=Q, Rewards_max=Rewards_max, Rewards_mean=Rewards_mean, Q_mean=Q_mean)\n",
    "    \n",
    "    if not show_live:\n",
    "        display.clear_output(wait=True)\n",
    "        print(\"Loop: {} with {} steps\".format(i, j))\n",
    "        print(\"Goal state: {}\".format(rand1))\n",
    "        print(\"Max Rewards : {}\".format(Rewards_max[-1]))\n",
    "        print(\"Mean Rewards: {}\".format(Rewards_mean[-1]))\n",
    "        print(\"Mean Q: {}\".format(Q_mean[-1]))\n",
    "\n",
    "        #print(\"Std Rewards\", np.std(rewards))\n",
    "        plt.plot(Rewards_max)\n",
    "        plt.plot(Rewards_mean)\n",
    "        plt.plot(Q_mean)\n",
    "        plt.legend([\"max reward\", \"mean reward\", \"mean Q\"])\n",
    "        plt.show()"
   ]
  },
  {
   "cell_type": "code",
   "execution_count": null,
   "metadata": {},
   "outputs": [],
   "source": [
    "np.savez(\"bck_\"+file_string, Q=Q, Rewards_max=Rewards_max, Rewards_mean=Rewards_mean, Q_mean=Q_mean)"
   ]
  },
  {
   "cell_type": "code",
   "execution_count": null,
   "metadata": {},
   "outputs": [],
   "source": []
  },
  {
   "cell_type": "code",
   "execution_count": null,
   "metadata": {},
   "outputs": [],
   "source": []
  },
  {
   "cell_type": "code",
   "execution_count": null,
   "metadata": {},
   "outputs": [],
   "source": []
  },
  {
   "cell_type": "code",
   "execution_count": null,
   "metadata": {},
   "outputs": [],
   "source": []
  },
  {
   "cell_type": "code",
   "execution_count": null,
   "metadata": {},
   "outputs": [],
   "source": []
  },
  {
   "cell_type": "code",
   "execution_count": null,
   "metadata": {},
   "outputs": [],
   "source": []
  }
 ],
 "metadata": {
  "kernelspec": {
   "display_name": "Python 2",
   "language": "python",
   "name": "python2"
  },
  "language_info": {
   "codemirror_mode": {
    "name": "ipython",
    "version": 2
   },
   "file_extension": ".py",
   "mimetype": "text/x-python",
   "name": "python",
   "nbconvert_exporter": "python",
   "pygments_lexer": "ipython2",
   "version": "2.7.17"
  }
 },
 "nbformat": 4,
 "nbformat_minor": 2
}
